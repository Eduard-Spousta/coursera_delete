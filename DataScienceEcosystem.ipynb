{
 "cells": [
  {
   "cell_type": "markdown",
   "id": "dfbcc91e-9661-4437-bed1-6ebb3a98aa5c",
   "metadata": {},
   "source": [
    "# Data Science Tools and Ecosystem"
   ]
  },
  {
   "cell_type": "markdown",
   "id": "daf43d4d-f3cf-4a89-a989-6f5f1cd1939d",
   "metadata": {},
   "source": [
    "In this notebook, Data Science Tools and Ecosystem are summarized"
   ]
  },
  {
   "cell_type": "markdown",
   "id": "6bc58f04-c494-444b-8685-ccc201c31bc1",
   "metadata": {},
   "source": [
    "**Objectives:**\n",
    "- List popular languages for Data Science.\n",
    "- List commonly used libraries for Data Science.\n",
    "- Create a table of common Data Science tools."
   ]
  },
  {
   "cell_type": "markdown",
   "id": "1849751f-96ed-404c-9a27-92a2fd4cc931",
   "metadata": {},
   "source": [
    "Some of the popular languages that Data Scientists use are:\n",
    "1. Python\n",
    "2. R\n",
    "3. SQL"
   ]
  },
  {
   "cell_type": "markdown",
   "id": "827a4459-60e2-4f33-b199-7d7002a33245",
   "metadata": {},
   "source": [
    "Some of the commonly used libraries used by Data Scientists include:\n",
    "1. Pandas\n",
    "2. NumPy\n",
    "3. TensorFlow"
   ]
  },
  {
   "cell_type": "markdown",
   "id": "6ebe84bd-dc9e-4a7b-87ab-c2c206621160",
   "metadata": {},
   "source": [
    "| Data Science Tools |\n",
    "| -------------| \n",
    "| Jupyter Notebook | \n",
    "| RStudio |\n",
    "| Apache Zeppelin |"
   ]
  },
  {
   "cell_type": "markdown",
   "id": "b6b4e30c-419c-4978-b751-8314af3214cf",
   "metadata": {},
   "source": [
    "### Below are a few examples of evaluating arithmetic expressions in Python"
   ]
  },
  {
   "cell_type": "code",
   "execution_count": 1,
   "id": "4e961d75-d137-4d70-88ef-f542a55ae87c",
   "metadata": {},
   "outputs": [
    {
     "data": {
      "text/plain": [
       "17"
      ]
     },
     "execution_count": 1,
     "metadata": {},
     "output_type": "execute_result"
    }
   ],
   "source": [
    "# This a simple arithmetic expression to mutiply then add integers\n",
    "(3*4)+5"
   ]
  },
  {
   "cell_type": "code",
   "execution_count": 2,
   "id": "1b688280-27fa-4223-bfb5-016a50b878cc",
   "metadata": {},
   "outputs": [
    {
     "data": {
      "text/plain": [
       "3.3333333333333335"
      ]
     },
     "execution_count": 2,
     "metadata": {},
     "output_type": "execute_result"
    }
   ],
   "source": [
    "# This will convert 200 minutes to hours by diving by 60\n",
    "hours = 200 / 60\n",
    "hours"
   ]
  },
  {
   "cell_type": "markdown",
   "id": "2cca91bc-e49c-4a95-9537-5b0454c567df",
   "metadata": {},
   "source": [
    "## Author\n",
    "Mr. Anonym"
   ]
  }
 ],
 "metadata": {
  "kernelspec": {
   "display_name": "Python 3 (ipykernel)",
   "language": "python",
   "name": "python3"
  },
  "language_info": {
   "codemirror_mode": {
    "name": "ipython",
    "version": 3
   },
   "file_extension": ".py",
   "mimetype": "text/x-python",
   "name": "python",
   "nbconvert_exporter": "python",
   "pygments_lexer": "ipython3",
   "version": "3.11.9"
  }
 },
 "nbformat": 4,
 "nbformat_minor": 5
}
